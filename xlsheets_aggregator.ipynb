{
 "cells": [
  {
   "cell_type": "markdown",
   "metadata": {},
   "source": [
    "## xlsheets aggregator\n",
    "*Dimeji Salau*  \n",
    "https://github.com/dimtics"
   ]
  },
  {
   "cell_type": "markdown",
   "metadata": {},
   "source": [
    "Here is the task. You have two or more Excel files containing data located in one or more worksheets. And there's a business requirement to aggregate the sheets into a single workbook (file). One way to do this is to copy the data from each worksheet in each of the Excel files and paste it into new sheets of a new workbook. However, these simple steps of copying and pasting can become really tedious if you have a couple of files with several sheets of data and you want to have all the sheets accumulated in a single file. \n",
    "\n",
    "Another way to do this is to leverage python to automate the task. The steps described below show how to do that.  \n",
    "\n",
    "**Note:**  _openpyxl, the main python package used here is currently compatible with Excel 2010 and above \"xlsx\" format and other open office tools (e.g. LibreOffice). For files in \"xls\" format, open and save them in \"xlsx\" before running the code below._"
   ]
  },
  {
   "cell_type": "markdown",
   "metadata": {},
   "source": [
    "<img src=\"img/pic1x.png\" width=\"338\" height=\"50\" > | <img src=\"img/pic1xx.png\" width=\"333\" height=\"5\" > | <img src=\"img/pic1.png\" width=\"500\" height=\"1\" >"
   ]
  },
  {
   "cell_type": "markdown",
   "metadata": {},
   "source": [
    "### Code Steps"
   ]
  },
  {
   "cell_type": "markdown",
   "metadata": {},
   "source": [
    "1. Import relevant packages\n",
    "2. Define path (directory) where the excel files to be aggregated are kept \n",
    "3. Create a new folder and insert a new workbook in the folder \n",
    "4. Iterate through each excel file, perform operations and save the new workbook\n",
    "5. Delete any remaining blank sheets in the new workbook"
   ]
  },
  {
   "cell_type": "markdown",
   "metadata": {},
   "source": [
    "### 1. Import relevant packages"
   ]
  },
  {
   "cell_type": "code",
   "execution_count": 1,
   "metadata": {},
   "outputs": [],
   "source": [
    "# import packages\n",
    "import openpyxl as pyxl\n",
    "from pathlib import Path\n",
    "from tqdm import tqdm\n",
    "import os\n",
    "import warnings\n",
    "\n",
    "warnings.filterwarnings(\"ignore\")"
   ]
  },
  {
   "cell_type": "markdown",
   "metadata": {},
   "source": [
    "### 2. Define path (directory) where the excel files to be aggregated are kept "
   ]
  },
  {
   "cell_type": "code",
   "execution_count": 2,
   "metadata": {},
   "outputs": [],
   "source": [
    "# define path\n",
    "fpath = Path(\"/Users/xxxx/Downloads/xltest\")\n",
    "\n",
    "# change new path to the current working directory\n",
    "os.chdir(fpath)\n",
    "\n",
    "# create a new folder in the current working directory\n",
    "Path('merged').mkdir()"
   ]
  },
  {
   "cell_type": "markdown",
   "metadata": {},
   "source": [
    "### 3. Create a new folder and insert a new workbook in the folder "
   ]
  },
  {
   "cell_type": "code",
   "execution_count": 3,
   "metadata": {},
   "outputs": [],
   "source": [
    "# define new path\n",
    "newpath = fpath / 'merged'\n",
    "\n",
    "# create new workbook (file) \n",
    "merged_wbk = newpath / \"merged.xlsx\"\n",
    "nwbk = pyxl.Workbook()"
   ]
  },
  {
   "cell_type": "markdown",
   "metadata": {},
   "source": [
    "### 4. Iterate through each excel file, perform operations and save the new workbook"
   ]
  },
  {
   "cell_type": "code",
   "execution_count": 4,
   "metadata": {},
   "outputs": [],
   "source": [
    "# iterate through each file in the folder\n",
    "for file in os.listdir(fpath):\n",
    "    \n",
    "    # select only excel file \n",
    "    if file.endswith(\".xlsx\"):\n",
    "        \n",
    "        # load the excel file and set it active\n",
    "        wbk = pyxl.load_workbook(fpath / file)\n",
    "        wbk.active\n",
    "        \n",
    "        # iterate through each sheet in the workbook\n",
    "        for sh in wbk.worksheets:\n",
    "            \n",
    "            # for each selected sheet in the current workbook, create a new sheet in the destination workbook (file)\n",
    "            nwbk.active\n",
    "            nsh = nwbk.create_sheet(sh.title)\n",
    "            \n",
    "            # iterate through the rows and cells in the selected sheet and write values into the new sheet\n",
    "            for row in sh:\n",
    "                for cell in row:\n",
    "                    nsh[cell.coordinate].value = cell.value\n",
    "            \n",
    "            # save the new workbook\n",
    "            nwbk.save(merged_wbk) "
   ]
  },
  {
   "cell_type": "markdown",
   "metadata": {},
   "source": [
    "### 5. Delete any remaining blank sheets in the new workbook"
   ]
  },
  {
   "cell_type": "code",
   "execution_count": 5,
   "metadata": {},
   "outputs": [],
   "source": [
    "# load the new workbook\n",
    "bk = pyxl.load_workbook(merged_wbk)\n",
    "\n",
    "# iterate through the sheets and remove any sheet without data\n",
    "for sh in bk.worksheets:\n",
    "    if sh.max_row == 1 and sh.max_column == 1:\n",
    "        bk.remove(sh)\n",
    "\n",
    "# save the workbook\n",
    "bk.save(merged_wbk)"
   ]
  },
  {
   "cell_type": "markdown",
   "metadata": {},
   "source": [
    "### Putting it all together...  \n",
    "The code steps highlighted above are put together below as a function script that can be run at command line or imported as a module. "
   ]
  },
  {
   "cell_type": "code",
   "execution_count": 2,
   "metadata": {},
   "outputs": [
    {
     "name": "stderr",
     "output_type": "stream",
     "text": [
      "100%|██████████| 6/6 [03:50<00:00, 38.44s/it]\n",
      "100%|██████████| 8/8 [00:00<00:00, 28.80it/s]\n"
     ]
    },
    {
     "name": "stdout",
     "output_type": "stream",
     "text": [
      "Sheets aggregation was successful!\n"
     ]
    }
   ],
   "source": [
    "def aggregate_xlsheet(dpath):\n",
    "    \n",
    "    ''' \n",
    "    a function to aggregate excel sheets from one or several workbooks into one excel file (workbook).\n",
    "    \n",
    "    Parameter\n",
    "    =========\n",
    "    \n",
    "    dpath: full path string of the directory where the files to be aggregared are kept.\n",
    "    \n",
    "    '''\n",
    "    \n",
    "    try:\n",
    "    \n",
    "        # define path\n",
    "        fpath = Path(\"/Users/xxxx/Downloads/xltest\")\n",
    "\n",
    "        # change new path to the current working directory\n",
    "        os.chdir(fpath)\n",
    "\n",
    "        # create a new folder in the current working directory\n",
    "        Path('merged').mkdir()\n",
    "\n",
    "        # define new path\n",
    "        newpath = fpath / 'merged'\n",
    "\n",
    "        # iterate through each file in the folder\n",
    "        for file in os.listdir(fpath):\n",
    "\n",
    "            # select only excel file \n",
    "            if file.endswith(\".xlsx\"):\n",
    "\n",
    "                # load the excel file and set it active\n",
    "                wbk = pyxl.load_workbook(fpath / file)\n",
    "                wbk.active\n",
    "\n",
    "                # iterate through each sheet in the workbook\n",
    "                for sh in wbk.worksheets:\n",
    "\n",
    "                    # for each selected sheet in the current workbook, create a new sheet in the destination workbook (file)\n",
    "                    nwbk.active\n",
    "                    nsh = nwbk.create_sheet(sh.title)\n",
    "\n",
    "                    # iterate through the rows and cells in the selected sheet and write values into the new sheet\n",
    "                    for row in sh:\n",
    "                        for cell in row:\n",
    "                            nsh[cell.coordinate].value = cell.value\n",
    "\n",
    "                    # save the new workbook\n",
    "                    nwbk.save(merged_wbk) \n",
    "\n",
    "        # load the new workbook\n",
    "        bk = pyxl.load_workbook(merged_wbk)\n",
    "\n",
    "        # iterate through the sheets and remove any sheet without data\n",
    "        for sh in bk.worksheets:\n",
    "            if sh.max_row == 1 and sh.max_column == 1:\n",
    "                bk.remove(sh)\n",
    "\n",
    "        # save the workbook\n",
    "        bk.save(merged_wbk)\n",
    "        \n",
    "        print(\"Sheets aggregation was successful!\")\n",
    "        \n",
    "    except Exception as err:\n",
    "        print(err)\n",
    "\n",
    "if __name__=='__main__':\n",
    "    aggregate_xlsheet(\"/Users/xxxx/Downloads/xltest\")   "
   ]
  }
 ],
 "metadata": {
  "kernelspec": {
   "display_name": "Python [conda env:datalytics]",
   "language": "python",
   "name": "conda-env-datalytics-py"
  },
  "language_info": {
   "codemirror_mode": {
    "name": "ipython",
    "version": 3
   },
   "file_extension": ".py",
   "mimetype": "text/x-python",
   "name": "python",
   "nbconvert_exporter": "python",
   "pygments_lexer": "ipython3",
   "version": "3.6.6"
  }
 },
 "nbformat": 4,
 "nbformat_minor": 2
}
